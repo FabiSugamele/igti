{
  "nbformat": 4,
  "nbformat_minor": 0,
  "metadata": {
    "colab": {
      "name": "Capitulo_01.ipynb",
      "provenance": [],
      "authorship_tag": "ABX9TyNCaKA7X+I9t0Rx3clQrq+o"
    },
    "kernelspec": {
      "name": "python3",
      "display_name": "Python 3"
    }
  },
  "cells": [
    {
      "cell_type": "code",
      "metadata": {
        "id": "a5e-lK-YlAh3",
        "colab_type": "code",
        "colab": {
          "base_uri": "https://localhost:8080/",
          "height": 35
        },
        "outputId": "f6467911-db38-4806-af18-b95f819d6359"
      },
      "source": [
        "nome = \"Miguel de idade {}, tem {} quilos\"\n",
        "idade = 4\n",
        "peso = 18.6\n",
        "print(nome.format(idade,peso))\n"
      ],
      "execution_count": null,
      "outputs": [
        {
          "output_type": "stream",
          "text": [
            "Miguel de idade 4, tem 18.6 quilos\n"
          ],
          "name": "stdout"
        }
      ]
    },
    {
      "cell_type": "markdown",
      "metadata": {
        "id": "dOVaH35uYty9",
        "colab_type": "text"
      },
      "source": [
        "# Nova seção"
      ]
    },
    {
      "cell_type": "code",
      "metadata": {
        "id": "si2YCcV1z273",
        "colab_type": "code",
        "colab": {
          "base_uri": "https://localhost:8080/",
          "height": 69
        },
        "outputId": "1070602b-0eed-4a87-982f-1f62c6987eec"
      },
      "source": [
        "#esse programa mostra o nome de uma pessoa como é escrito em seu passaporte\n",
        "# Exemplo: Sugamele, Miguel\n",
        "primeiro_nome = input(\"Digite o seu nome: \")\n",
        "sobrenome = input(\"Digite seu sobrenome: \")\n",
        "print(\"O nome conforme o passaporte é {}, {}\".format(sobrenome, primeiro_nome))\n"
      ],
      "execution_count": null,
      "outputs": [
        {
          "output_type": "stream",
          "text": [
            "Digite o seu nome: Miguel\n",
            "Digite seu sobrenome: Sugamele\n",
            "O nome conforme o passaporte é Sugamele, Miguel\n"
          ],
          "name": "stdout"
        }
      ]
    },
    {
      "cell_type": "code",
      "metadata": {
        "id": "ikqRBfqa-qNJ",
        "colab_type": "code",
        "colab": {
          "base_uri": "https://localhost:8080/",
          "height": 87
        },
        "outputId": "d891b1fb-1812-4916-a888-376335bb8861"
      },
      "source": [
        "# também podemos fazer da forma abaixo utilizando o capitalize\n",
        "# print(\"Nome: {} - Sobrenome: {}\".format(nome.capitalize,sobrenome.capitalize))\n",
        "nome = input(\"Digite seu nome: \")\n",
        "sobrenome = input(\"Digite seu sobrenome: \")\n",
        "nome = nome.capitalize()\n",
        "nome_completo = nome+\" \"+sobrenome\n",
        "sobrenome = sobrenome.capitalize()\n",
        "print(\"Nome: {} - Sobrenome: {}\".format(nome,sobrenome))\n",
        "print(\"Nome Completo: {} \" .format(nome_completo))"
      ],
      "execution_count": null,
      "outputs": [
        {
          "output_type": "stream",
          "text": [
            "Digite seu nome: maria\n",
            "Digite seu sobrenome: souza\n",
            "Nome: Maria - Sobrenome: Souza\n",
            "Nome Completo: Maria souza \n"
          ],
          "name": "stdout"
        }
      ]
    },
    {
      "cell_type": "code",
      "metadata": {
        "id": "2663Pa8OG_fD",
        "colab_type": "code",
        "colab": {
          "base_uri": "https://localhost:8080/",
          "height": 69
        },
        "outputId": "a98b01f1-6ba6-4349-c54c-1d777b08c9bc"
      },
      "source": [
        "nome = \"Joaquim Jose da Silva Xavier\"\n",
        "print(len(nome))\n",
        "nome_dividido = nome.split()\n",
        "print(nome_dividido)\n",
        "print(\"Primeiro nome: {}\".format(nome_dividido[0]))"
      ],
      "execution_count": null,
      "outputs": [
        {
          "output_type": "stream",
          "text": [
            "28\n",
            "['Joaquim', 'Jose', 'da', 'Silva', 'Xavier']\n",
            "Primeiro nome: Joaquim\n"
          ],
          "name": "stdout"
        }
      ]
    },
    {
      "cell_type": "code",
      "metadata": {
        "id": "s28kW57C3_Za",
        "colab_type": "code",
        "colab": {
          "base_uri": "https://localhost:8080/",
          "height": 69
        },
        "outputId": "7598098a-a8ff-4eee-fdcd-8b139a657e61"
      },
      "source": [
        "nome = input (\"Digite seu nome:\")\n",
        "print(\"Inelizmente só posso gravar 20 caracteres. Será gravado: {}\" .format(nome[0:20]))\n",
        "primeiro_espaco = nome.index(\" \")\n",
        "print(\"O primeiro nome é {}\".format(nome[0:primeiro_espaco]))\n"
      ],
      "execution_count": null,
      "outputs": [
        {
          "output_type": "stream",
          "text": [
            "Digite seu nome:Maria Jose Silva de Oliveira\n",
            "Inelizmente só posso gravar 20 caracteres. Será gravado: Maria Jose Silva de \n",
            "O primeiro nome é Maria\n"
          ],
          "name": "stdout"
        }
      ]
    },
    {
      "cell_type": "code",
      "metadata": {
        "id": "vj42he5iMhDo",
        "colab_type": "code",
        "colab": {
          "base_uri": "https://localhost:8080/",
          "height": 35
        },
        "outputId": "410c1e65-da8f-40a5-ae3b-8473fbf1a43f"
      },
      "source": [
        "frase = \"    Esta é uma frase de testes    \"\n",
        "frase = frase.strip()\n",
        "print(\"*{}*\".format(frase))\n"
      ],
      "execution_count": null,
      "outputs": [
        {
          "output_type": "stream",
          "text": [
            "*Esta é uma frase de testes*\n"
          ],
          "name": "stdout"
        }
      ]
    },
    {
      "cell_type": "code",
      "metadata": {
        "id": "3SApmKlVaCB9",
        "colab_type": "code",
        "colab": {
          "base_uri": "https://localhost:8080/",
          "height": 69
        },
        "outputId": "7fc6d070-36ee-4fc8-f434-d9a1285ec29a"
      },
      "source": [
        "peso = input(\"Digite seu peso: \")\n",
        "peso_dividido = peso.split(\".\")\n",
        "print(peso_dividido[0].isdigit())\n",
        "print(peso_dividido[1].isdigit())\n"
      ],
      "execution_count": null,
      "outputs": [
        {
          "output_type": "stream",
          "text": [
            "Digite seu peso: 66.0\n",
            "True\n",
            "True\n"
          ],
          "name": "stdout"
        }
      ]
    },
    {
      "cell_type": "code",
      "metadata": {
        "id": "MnQopSlhd9VK",
        "colab_type": "code",
        "colab": {
          "base_uri": "https://localhost:8080/",
          "height": 52
        },
        "outputId": "6ca4227a-31be-4e97-d8e3-65cb178007fb"
      },
      "source": [
        "idade = 18\n",
        "print(idade)\n",
        "peso = 80.9\n",
        "print(peso)\n"
      ],
      "execution_count": null,
      "outputs": [
        {
          "output_type": "stream",
          "text": [
            "18\n",
            "80.9\n"
          ],
          "name": "stdout"
        }
      ]
    },
    {
      "cell_type": "code",
      "metadata": {
        "id": "zyjeBQY0e7bz",
        "colab_type": "code",
        "colab": {
          "base_uri": "https://localhost:8080/",
          "height": 69
        },
        "outputId": "8995e1d7-07e0-42fe-a1d6-01e981edb2e6"
      },
      "source": [
        "preco_arroz = 4.99\n",
        "quilos = 10\n",
        "print(type(preco_arroz))\n",
        "print(type(quilos))\n",
        "print(preco_arroz*quilos)\n"
      ],
      "execution_count": null,
      "outputs": [
        {
          "output_type": "stream",
          "text": [
            "<class 'float'>\n",
            "<class 'int'>\n",
            "49.900000000000006\n"
          ],
          "name": "stdout"
        }
      ]
    },
    {
      "cell_type": "code",
      "metadata": {
        "id": "5xR8F7Uo_UHX",
        "colab_type": "code",
        "colab": {
          "base_uri": "https://localhost:8080/",
          "height": 69
        },
        "outputId": "99088e5b-c331-4eec-8043-3147230158e3"
      },
      "source": [
        "#Programa para calcular o IMC = Indice de Massa Corporal\n",
        "#Formula = peso / (altura*altura) ou peso / (altura**2)\n",
        "\n",
        "peso = input(\"Digite seu peso: \")\n",
        "altura = input(\"Digite sua altura: \")\n",
        "peso = float(peso)\n",
        "altura = float(altura)\n",
        "imc = peso / (altura**2)\n",
        "\n",
        "print(\"Seu IMC é {}\".format(imc))\n"
      ],
      "execution_count": null,
      "outputs": [
        {
          "output_type": "stream",
          "text": [
            "Digite seu peso: 66.5\n",
            "Digite sua altura: 1.69\n",
            "Seu IMC é 23.283498476944086\n"
          ],
          "name": "stdout"
        }
      ]
    }
  ]
}